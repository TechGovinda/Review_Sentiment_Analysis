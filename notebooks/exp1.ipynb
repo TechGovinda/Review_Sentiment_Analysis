{
 "cells": [
  {
   "cell_type": "code",
   "execution_count": 1,
   "metadata": {},
   "outputs": [
    {
     "name": "stdout",
     "output_type": "stream",
     "text": [
      "Requirement already satisfied: mlflow in c:\\users\\govinda sah\\.conda\\envs\\myenv\\lib\\site-packages (2.21.0)\n",
      "Requirement already satisfied: mlflow-skinny==2.21.0 in c:\\users\\govinda sah\\.conda\\envs\\myenv\\lib\\site-packages (from mlflow) (2.21.0)\n",
      "Requirement already satisfied: Flask<4 in c:\\users\\govinda sah\\.conda\\envs\\myenv\\lib\\site-packages (from mlflow) (3.1.0)\n",
      "Requirement already satisfied: Jinja2<4,>=3.0 in c:\\users\\govinda sah\\.conda\\envs\\myenv\\lib\\site-packages (from mlflow) (3.1.6)\n",
      "Requirement already satisfied: alembic!=1.10.0,<2 in c:\\users\\govinda sah\\.conda\\envs\\myenv\\lib\\site-packages (from mlflow) (1.15.1)\n",
      "Requirement already satisfied: docker<8,>=4.0.0 in c:\\users\\govinda sah\\.conda\\envs\\myenv\\lib\\site-packages (from mlflow) (6.1.3)\n",
      "Requirement already satisfied: graphene<4 in c:\\users\\govinda sah\\.conda\\envs\\myenv\\lib\\site-packages (from mlflow) (3.3)\n",
      "Requirement already satisfied: markdown<4,>=3.3 in c:\\users\\govinda sah\\.conda\\envs\\myenv\\lib\\site-packages (from mlflow) (3.7)\n",
      "Requirement already satisfied: matplotlib<4 in c:\\users\\govinda sah\\.conda\\envs\\myenv\\lib\\site-packages (from mlflow) (3.10.1)\n",
      "Requirement already satisfied: numpy<3 in c:\\users\\govinda sah\\.conda\\envs\\myenv\\lib\\site-packages (from mlflow) (1.26.4)\n",
      "Requirement already satisfied: pandas<3 in c:\\users\\govinda sah\\.conda\\envs\\myenv\\lib\\site-packages (from mlflow) (2.2.3)\n",
      "Requirement already satisfied: pyarrow<20,>=4.0.0 in c:\\users\\govinda sah\\.conda\\envs\\myenv\\lib\\site-packages (from mlflow) (14.0.2)\n",
      "Requirement already satisfied: scikit-learn<2 in c:\\users\\govinda sah\\.conda\\envs\\myenv\\lib\\site-packages (from mlflow) (1.6.1)\n",
      "Requirement already satisfied: scipy<2 in c:\\users\\govinda sah\\.conda\\envs\\myenv\\lib\\site-packages (from mlflow) (1.15.2)\n",
      "Requirement already satisfied: sqlalchemy<3,>=1.4.0 in c:\\users\\govinda sah\\.conda\\envs\\myenv\\lib\\site-packages (from mlflow) (2.0.39)\n",
      "Requirement already satisfied: waitress<4 in c:\\users\\govinda sah\\.conda\\envs\\myenv\\lib\\site-packages (from mlflow) (2.1.2)\n",
      "Requirement already satisfied: cachetools<6,>=5.0.0 in c:\\users\\govinda sah\\.conda\\envs\\myenv\\lib\\site-packages (from mlflow-skinny==2.21.0->mlflow) (5.4.0)\n",
      "Requirement already satisfied: click<9,>=7.0 in c:\\users\\govinda sah\\.conda\\envs\\myenv\\lib\\site-packages (from mlflow-skinny==2.21.0->mlflow) (8.1.8)\n",
      "Requirement already satisfied: cloudpickle<4 in c:\\users\\govinda sah\\.conda\\envs\\myenv\\lib\\site-packages (from mlflow-skinny==2.21.0->mlflow) (3.1.1)\n",
      "Requirement already satisfied: databricks-sdk<1,>=0.20.0 in c:\\users\\govinda sah\\.conda\\envs\\myenv\\lib\\site-packages (from mlflow-skinny==2.21.0->mlflow) (0.29.0)\n",
      "Requirement already satisfied: fastapi<1 in c:\\users\\govinda sah\\.conda\\envs\\myenv\\lib\\site-packages (from mlflow-skinny==2.21.0->mlflow) (0.115.11)\n",
      "Requirement already satisfied: gitpython<4,>=3.1.9 in c:\\users\\govinda sah\\.conda\\envs\\myenv\\lib\\site-packages (from mlflow-skinny==2.21.0->mlflow) (3.1.44)\n",
      "Requirement already satisfied: importlib_metadata!=4.7.0,<9,>=3.7.0 in c:\\users\\govinda sah\\.conda\\envs\\myenv\\lib\\site-packages (from mlflow-skinny==2.21.0->mlflow) (7.2.1)\n",
      "Requirement already satisfied: opentelemetry-api<3,>=1.9.0 in c:\\users\\govinda sah\\.conda\\envs\\myenv\\lib\\site-packages (from mlflow-skinny==2.21.0->mlflow) (1.26.0)\n",
      "Requirement already satisfied: opentelemetry-sdk<3,>=1.9.0 in c:\\users\\govinda sah\\.conda\\envs\\myenv\\lib\\site-packages (from mlflow-skinny==2.21.0->mlflow) (1.26.0)\n",
      "Requirement already satisfied: packaging<25 in c:\\users\\govinda sah\\.conda\\envs\\myenv\\lib\\site-packages (from mlflow-skinny==2.21.0->mlflow) (23.2)\n",
      "Requirement already satisfied: protobuf<6,>=3.12.0 in c:\\users\\govinda sah\\.conda\\envs\\myenv\\lib\\site-packages (from mlflow-skinny==2.21.0->mlflow) (4.25.6)\n",
      "Requirement already satisfied: pydantic<3,>=1.10.8 in c:\\users\\govinda sah\\.conda\\envs\\myenv\\lib\\site-packages (from mlflow-skinny==2.21.0->mlflow) (2.8.2)\n",
      "Requirement already satisfied: pyyaml<7,>=5.1 in c:\\users\\govinda sah\\.conda\\envs\\myenv\\lib\\site-packages (from mlflow-skinny==2.21.0->mlflow) (6.0.2)\n",
      "Requirement already satisfied: requests<3,>=2.17.3 in c:\\users\\govinda sah\\.conda\\envs\\myenv\\lib\\site-packages (from mlflow-skinny==2.21.0->mlflow) (2.32.3)\n",
      "Requirement already satisfied: sqlparse<1,>=0.4.0 in c:\\users\\govinda sah\\.conda\\envs\\myenv\\lib\\site-packages (from mlflow-skinny==2.21.0->mlflow) (0.5.3)\n",
      "Requirement already satisfied: typing-extensions<5,>=4.0.0 in c:\\users\\govinda sah\\.conda\\envs\\myenv\\lib\\site-packages (from mlflow-skinny==2.21.0->mlflow) (4.12.2)\n",
      "Requirement already satisfied: uvicorn<1 in c:\\users\\govinda sah\\.conda\\envs\\myenv\\lib\\site-packages (from mlflow-skinny==2.21.0->mlflow) (0.34.0)\n",
      "Requirement already satisfied: Mako in c:\\users\\govinda sah\\.conda\\envs\\myenv\\lib\\site-packages (from alembic!=1.10.0,<2->mlflow) (1.3.9)\n",
      "Requirement already satisfied: urllib3>=1.26.0 in c:\\users\\govinda sah\\.conda\\envs\\myenv\\lib\\site-packages (from docker<8,>=4.0.0->mlflow) (2.3.0)\n",
      "Requirement already satisfied: websocket-client>=0.32.0 in c:\\users\\govinda sah\\.conda\\envs\\myenv\\lib\\site-packages (from docker<8,>=4.0.0->mlflow) (1.8.0)\n",
      "Requirement already satisfied: pywin32>=304 in c:\\users\\govinda sah\\.conda\\envs\\myenv\\lib\\site-packages (from docker<8,>=4.0.0->mlflow) (310)\n",
      "Requirement already satisfied: Werkzeug>=3.1 in c:\\users\\govinda sah\\.conda\\envs\\myenv\\lib\\site-packages (from Flask<4->mlflow) (3.1.3)\n",
      "Requirement already satisfied: itsdangerous>=2.2 in c:\\users\\govinda sah\\.conda\\envs\\myenv\\lib\\site-packages (from Flask<4->mlflow) (2.2.0)\n",
      "Requirement already satisfied: blinker>=1.9 in c:\\users\\govinda sah\\.conda\\envs\\myenv\\lib\\site-packages (from Flask<4->mlflow) (1.9.0)\n",
      "Requirement already satisfied: graphql-core<3.3,>=3.1 in c:\\users\\govinda sah\\.conda\\envs\\myenv\\lib\\site-packages (from graphene<4->mlflow) (3.2.3)\n",
      "Requirement already satisfied: graphql-relay<3.3,>=3.1 in c:\\users\\govinda sah\\.conda\\envs\\myenv\\lib\\site-packages (from graphene<4->mlflow) (3.2.0)\n",
      "Requirement already satisfied: aniso8601<10,>=8 in c:\\users\\govinda sah\\.conda\\envs\\myenv\\lib\\site-packages (from graphene<4->mlflow) (9.0.1)\n",
      "Requirement already satisfied: MarkupSafe>=2.0 in c:\\users\\govinda sah\\.conda\\envs\\myenv\\lib\\site-packages (from Jinja2<4,>=3.0->mlflow) (3.0.2)\n",
      "Requirement already satisfied: contourpy>=1.0.1 in c:\\users\\govinda sah\\.conda\\envs\\myenv\\lib\\site-packages (from matplotlib<4->mlflow) (1.3.1)\n",
      "Requirement already satisfied: cycler>=0.10 in c:\\users\\govinda sah\\.conda\\envs\\myenv\\lib\\site-packages (from matplotlib<4->mlflow) (0.12.1)\n",
      "Requirement already satisfied: fonttools>=4.22.0 in c:\\users\\govinda sah\\.conda\\envs\\myenv\\lib\\site-packages (from matplotlib<4->mlflow) (4.56.0)\n",
      "Requirement already satisfied: kiwisolver>=1.3.1 in c:\\users\\govinda sah\\.conda\\envs\\myenv\\lib\\site-packages (from matplotlib<4->mlflow) (1.4.8)\n",
      "Requirement already satisfied: pillow>=8 in c:\\users\\govinda sah\\.conda\\envs\\myenv\\lib\\site-packages (from matplotlib<4->mlflow) (11.1.0)\n",
      "Requirement already satisfied: pyparsing>=2.3.1 in c:\\users\\govinda sah\\.conda\\envs\\myenv\\lib\\site-packages (from matplotlib<4->mlflow) (3.2.1)\n",
      "Requirement already satisfied: python-dateutil>=2.7 in c:\\users\\govinda sah\\.conda\\envs\\myenv\\lib\\site-packages (from matplotlib<4->mlflow) (2.9.0.post0)\n",
      "Requirement already satisfied: pytz>=2020.1 in c:\\users\\govinda sah\\.conda\\envs\\myenv\\lib\\site-packages (from pandas<3->mlflow) (2023.4)\n",
      "Requirement already satisfied: tzdata>=2022.7 in c:\\users\\govinda sah\\.conda\\envs\\myenv\\lib\\site-packages (from pandas<3->mlflow) (2025.1)\n",
      "Requirement already satisfied: joblib>=1.2.0 in c:\\users\\govinda sah\\.conda\\envs\\myenv\\lib\\site-packages (from scikit-learn<2->mlflow) (1.4.2)\n",
      "Requirement already satisfied: threadpoolctl>=3.1.0 in c:\\users\\govinda sah\\.conda\\envs\\myenv\\lib\\site-packages (from scikit-learn<2->mlflow) (3.6.0)\n",
      "Requirement already satisfied: greenlet!=0.4.17 in c:\\users\\govinda sah\\.conda\\envs\\myenv\\lib\\site-packages (from sqlalchemy<3,>=1.4.0->mlflow) (3.1.1)\n",
      "Requirement already satisfied: colorama in c:\\users\\govinda sah\\.conda\\envs\\myenv\\lib\\site-packages (from click<9,>=7.0->mlflow-skinny==2.21.0->mlflow) (0.4.6)\n",
      "Requirement already satisfied: google-auth~=2.0 in c:\\users\\govinda sah\\.conda\\envs\\myenv\\lib\\site-packages (from databricks-sdk<1,>=0.20.0->mlflow-skinny==2.21.0->mlflow) (2.32.0)\n",
      "Requirement already satisfied: starlette<0.47.0,>=0.40.0 in c:\\users\\govinda sah\\.conda\\envs\\myenv\\lib\\site-packages (from fastapi<1->mlflow-skinny==2.21.0->mlflow) (0.46.1)\n",
      "Requirement already satisfied: gitdb<5,>=4.0.1 in c:\\users\\govinda sah\\.conda\\envs\\myenv\\lib\\site-packages (from gitpython<4,>=3.1.9->mlflow-skinny==2.21.0->mlflow) (4.0.12)\n",
      "Requirement already satisfied: zipp>=0.5 in c:\\users\\govinda sah\\.conda\\envs\\myenv\\lib\\site-packages (from importlib_metadata!=4.7.0,<9,>=3.7.0->mlflow-skinny==2.21.0->mlflow) (3.21.0)\n",
      "Requirement already satisfied: deprecated>=1.2.6 in c:\\users\\govinda sah\\.conda\\envs\\myenv\\lib\\site-packages (from opentelemetry-api<3,>=1.9.0->mlflow-skinny==2.21.0->mlflow) (1.2.14)\n",
      "Requirement already satisfied: opentelemetry-semantic-conventions==0.47b0 in c:\\users\\govinda sah\\.conda\\envs\\myenv\\lib\\site-packages (from opentelemetry-sdk<3,>=1.9.0->mlflow-skinny==2.21.0->mlflow) (0.47b0)\n",
      "Requirement already satisfied: annotated-types>=0.4.0 in c:\\users\\govinda sah\\.conda\\envs\\myenv\\lib\\site-packages (from pydantic<3,>=1.10.8->mlflow-skinny==2.21.0->mlflow) (0.7.0)\n",
      "Requirement already satisfied: pydantic-core==2.20.1 in c:\\users\\govinda sah\\.conda\\envs\\myenv\\lib\\site-packages (from pydantic<3,>=1.10.8->mlflow-skinny==2.21.0->mlflow) (2.20.1)\n",
      "Requirement already satisfied: six>=1.5 in c:\\users\\govinda sah\\.conda\\envs\\myenv\\lib\\site-packages (from python-dateutil>=2.7->matplotlib<4->mlflow) (1.17.0)\n",
      "Requirement already satisfied: charset-normalizer<4,>=2 in c:\\users\\govinda sah\\.conda\\envs\\myenv\\lib\\site-packages (from requests<3,>=2.17.3->mlflow-skinny==2.21.0->mlflow) (3.4.1)\n",
      "Requirement already satisfied: idna<4,>=2.5 in c:\\users\\govinda sah\\.conda\\envs\\myenv\\lib\\site-packages (from requests<3,>=2.17.3->mlflow-skinny==2.21.0->mlflow) (3.10)\n",
      "Requirement already satisfied: certifi>=2017.4.17 in c:\\users\\govinda sah\\.conda\\envs\\myenv\\lib\\site-packages (from requests<3,>=2.17.3->mlflow-skinny==2.21.0->mlflow) (2025.1.31)\n",
      "Requirement already satisfied: h11>=0.8 in c:\\users\\govinda sah\\.conda\\envs\\myenv\\lib\\site-packages (from uvicorn<1->mlflow-skinny==2.21.0->mlflow) (0.14.0)\n",
      "Requirement already satisfied: wrapt<2,>=1.10 in c:\\users\\govinda sah\\.conda\\envs\\myenv\\lib\\site-packages (from deprecated>=1.2.6->opentelemetry-api<3,>=1.9.0->mlflow-skinny==2.21.0->mlflow) (1.16.0)\n",
      "Requirement already satisfied: smmap<6,>=3.0.1 in c:\\users\\govinda sah\\.conda\\envs\\myenv\\lib\\site-packages (from gitdb<5,>=4.0.1->gitpython<4,>=3.1.9->mlflow-skinny==2.21.0->mlflow) (5.0.2)\n",
      "Requirement already satisfied: pyasn1-modules>=0.2.1 in c:\\users\\govinda sah\\.conda\\envs\\myenv\\lib\\site-packages (from google-auth~=2.0->databricks-sdk<1,>=0.20.0->mlflow-skinny==2.21.0->mlflow) (0.4.0)\n",
      "Requirement already satisfied: rsa<5,>=3.1.4 in c:\\users\\govinda sah\\.conda\\envs\\myenv\\lib\\site-packages (from google-auth~=2.0->databricks-sdk<1,>=0.20.0->mlflow-skinny==2.21.0->mlflow) (4.7.2)\n",
      "Requirement already satisfied: anyio<5,>=3.6.2 in c:\\users\\govinda sah\\.conda\\envs\\myenv\\lib\\site-packages (from starlette<0.47.0,>=0.40.0->fastapi<1->mlflow-skinny==2.21.0->mlflow) (4.4.0)\n",
      "Requirement already satisfied: sniffio>=1.1 in c:\\users\\govinda sah\\.conda\\envs\\myenv\\lib\\site-packages (from anyio<5,>=3.6.2->starlette<0.47.0,>=0.40.0->fastapi<1->mlflow-skinny==2.21.0->mlflow) (1.3.1)\n",
      "Requirement already satisfied: exceptiongroup>=1.0.2 in c:\\users\\govinda sah\\.conda\\envs\\myenv\\lib\\site-packages (from anyio<5,>=3.6.2->starlette<0.47.0,>=0.40.0->fastapi<1->mlflow-skinny==2.21.0->mlflow) (1.2.2)\n",
      "Requirement already satisfied: pyasn1<0.7.0,>=0.4.6 in c:\\users\\govinda sah\\.conda\\envs\\myenv\\lib\\site-packages (from pyasn1-modules>=0.2.1->google-auth~=2.0->databricks-sdk<1,>=0.20.0->mlflow-skinny==2.21.0->mlflow) (0.6.0)\n"
     ]
    }
   ],
   "source": [
    "# import nltk\n",
    "# nltk.download('wordnet')\n",
    "! pip install --upgrade mlflow"
   ]
  },
  {
   "cell_type": "code",
   "execution_count": 2,
   "metadata": {},
   "outputs": [],
   "source": [
    "import mlflow\n",
    "import pandas as pd\n",
    "import mlflow.sklearn\n",
    "from sklearn.feature_extraction.text import CountVectorizer\n",
    "from sklearn.model_selection import train_test_split\n",
    "from sklearn.linear_model import LogisticRegression\n",
    "from sklearn.metrics import accuracy_score, precision_score, recall_score, f1_score\n",
    "import pandas as pd\n",
    "import re\n",
    "import string\n",
    "from nltk.corpus import stopwords\n",
    "from nltk.stem import WordNetLemmatizer\n",
    "import numpy as np"
   ]
  },
  {
   "cell_type": "code",
   "execution_count": 3,
   "metadata": {},
   "outputs": [
    {
     "data": {
      "text/html": [
       "<div>\n",
       "<style scoped>\n",
       "    .dataframe tbody tr th:only-of-type {\n",
       "        vertical-align: middle;\n",
       "    }\n",
       "\n",
       "    .dataframe tbody tr th {\n",
       "        vertical-align: top;\n",
       "    }\n",
       "\n",
       "    .dataframe thead th {\n",
       "        text-align: right;\n",
       "    }\n",
       "</style>\n",
       "<table border=\"1\" class=\"dataframe\">\n",
       "  <thead>\n",
       "    <tr style=\"text-align: right;\">\n",
       "      <th></th>\n",
       "      <th>review</th>\n",
       "      <th>sentiment</th>\n",
       "    </tr>\n",
       "  </thead>\n",
       "  <tbody>\n",
       "    <tr>\n",
       "      <th>590</th>\n",
       "      <td>Twenty five years ago, I showed this film in s...</td>\n",
       "      <td>positive</td>\n",
       "    </tr>\n",
       "    <tr>\n",
       "      <th>184</th>\n",
       "      <td>Narratives  whether written, visual or poetic...</td>\n",
       "      <td>positive</td>\n",
       "    </tr>\n",
       "    <tr>\n",
       "      <th>220</th>\n",
       "      <td>I saw this movie in Blockbuster and thought it...</td>\n",
       "      <td>negative</td>\n",
       "    </tr>\n",
       "    <tr>\n",
       "      <th>94</th>\n",
       "      <td>I rented this film on Netflix after it won all...</td>\n",
       "      <td>negative</td>\n",
       "    </tr>\n",
       "    <tr>\n",
       "      <th>60</th>\n",
       "      <td>What could've been a great film about the late...</td>\n",
       "      <td>negative</td>\n",
       "    </tr>\n",
       "  </tbody>\n",
       "</table>\n",
       "</div>"
      ],
      "text/plain": [
       "                                                review sentiment\n",
       "590  Twenty five years ago, I showed this film in s...  positive\n",
       "184  Narratives  whether written, visual or poetic...  positive\n",
       "220  I saw this movie in Blockbuster and thought it...  negative\n",
       "94   I rented this film on Netflix after it won all...  negative\n",
       "60   What could've been a great film about the late...  negative"
      ]
     },
     "execution_count": 3,
     "metadata": {},
     "output_type": "execute_result"
    }
   ],
   "source": [
    "df= pd.read_csv('IMDB.csv')\n",
    "df = df.sample(500)\n",
    "df.to_csv('data.csv',index=False)\n",
    "df.head()\n"
   ]
  },
  {
   "cell_type": "code",
   "execution_count": 4,
   "metadata": {},
   "outputs": [],
   "source": [
    "#  data preprocessing \n",
    "#  Define test preprocessing function\n",
    "def lammatization(text):\n",
    "    \"\"\"Lamatize the text\"\"\"\n",
    "    lemmatizer = WordNetLemmatizer()\n",
    "    text = text.split()\n",
    "    text = [lemmatizer.lemmatize(word) for word in text]\n",
    "    return \" \".join(text)\n",
    "\n",
    "def remove_stop_words(text):\n",
    "    \"\"\"Remove stop words from the text\"\"\"\n",
    "    stop_words = set(stopwords.words('english'))\n",
    "    text = text.split()\n",
    "    text = [word for word in text if word not in stop_words]\n",
    "    return \" \".join(text)\n",
    "\n",
    "def remove_number(text):\n",
    "    \"\"\"Remove numbers from the text\"\"\"\n",
    "    text = ''.join([char for char in text if not char.isdigit()])\n",
    "    return text\n",
    "    \n",
    "def lower_case(text):\n",
    "    \"\"\"Convert the text to lower case\"\"\"\n",
    "    text=text.split()\n",
    "    text=[word.lower() for word in text]\n",
    "    return ' '.join(text)\n",
    "\n",
    "def removing_punctuation(text):\n",
    "    '''Remove punctuations from the text'''\n",
    "    text=re.sub('[%s]' % re.escape(string.punctuation),' ',text)\n",
    "    text=text.replace(':',\"\")\n",
    "    text=re.sub('\\s+', ' ', text).strip()\n",
    "    return text\n",
    "\n",
    "def removing_urls(text):\n",
    "    '''Remove URLs from the text'''\n",
    "    url_pattern = re.compile(r'https?://\\S+|www\\.\\S+')\n",
    "    return url_pattern.sub('', text)"
   ]
  },
  {
   "cell_type": "code",
   "execution_count": 5,
   "metadata": {},
   "outputs": [],
   "source": [
    "def normalize_text(df):\n",
    "    'Normalize the text data'\n",
    "    try:\n",
    "        df['review']=df['review'].apply(lower_case)\n",
    "        df['review']=df['review'].apply(remove_stop_words)\n",
    "        df['review']=df['review'].apply(removing_urls)\n",
    "        df['review']=df['review'].apply(remove_number)\n",
    "        df['review']=df['review'].apply(removing_punctuation)\n",
    "        df['review']=df['review'].apply(lammatization)\n",
    "        return df\n",
    "    except Exception as e:\n",
    "        print(f'Error during text normalization: {e}')\n",
    "        raise\n",
    "        "
   ]
  },
  {
   "cell_type": "code",
   "execution_count": 6,
   "metadata": {},
   "outputs": [
    {
     "data": {
      "text/html": [
       "<div>\n",
       "<style scoped>\n",
       "    .dataframe tbody tr th:only-of-type {\n",
       "        vertical-align: middle;\n",
       "    }\n",
       "\n",
       "    .dataframe tbody tr th {\n",
       "        vertical-align: top;\n",
       "    }\n",
       "\n",
       "    .dataframe thead th {\n",
       "        text-align: right;\n",
       "    }\n",
       "</style>\n",
       "<table border=\"1\" class=\"dataframe\">\n",
       "  <thead>\n",
       "    <tr style=\"text-align: right;\">\n",
       "      <th></th>\n",
       "      <th>review</th>\n",
       "      <th>sentiment</th>\n",
       "    </tr>\n",
       "  </thead>\n",
       "  <tbody>\n",
       "    <tr>\n",
       "      <th>590</th>\n",
       "      <td>twenty five year ago showed film child s class...</td>\n",
       "      <td>positive</td>\n",
       "    </tr>\n",
       "    <tr>\n",
       "      <th>184</th>\n",
       "      <td>narrative  whether written visual poetic epic...</td>\n",
       "      <td>positive</td>\n",
       "    </tr>\n",
       "    <tr>\n",
       "      <th>220</th>\n",
       "      <td>saw movie blockbuster thought might good sunda...</td>\n",
       "      <td>negative</td>\n",
       "    </tr>\n",
       "    <tr>\n",
       "      <th>94</th>\n",
       "      <td>rented film netflix oscar see really good br b...</td>\n",
       "      <td>negative</td>\n",
       "    </tr>\n",
       "    <tr>\n",
       "      <th>60</th>\n",
       "      <td>could ve great film late poker pro pre poker c...</td>\n",
       "      <td>negative</td>\n",
       "    </tr>\n",
       "  </tbody>\n",
       "</table>\n",
       "</div>"
      ],
      "text/plain": [
       "                                                review sentiment\n",
       "590  twenty five year ago showed film child s class...  positive\n",
       "184  narrative  whether written visual poetic epic...  positive\n",
       "220  saw movie blockbuster thought might good sunda...  negative\n",
       "94   rented film netflix oscar see really good br b...  negative\n",
       "60   could ve great film late poker pro pre poker c...  negative"
      ]
     },
     "execution_count": 6,
     "metadata": {},
     "output_type": "execute_result"
    }
   ],
   "source": [
    "df=normalize_text(df)\n",
    "df.head()"
   ]
  },
  {
   "cell_type": "code",
   "execution_count": 7,
   "metadata": {},
   "outputs": [
    {
     "data": {
      "text/plain": [
       "sentiment\n",
       "negative    260\n",
       "positive    240\n",
       "Name: count, dtype: int64"
      ]
     },
     "execution_count": 7,
     "metadata": {},
     "output_type": "execute_result"
    }
   ],
   "source": [
    "df['sentiment'].value_counts()"
   ]
  },
  {
   "cell_type": "code",
   "execution_count": 8,
   "metadata": {},
   "outputs": [],
   "source": [
    "x= df['sentiment'].isin(['positive','negative'])\n",
    "df=df[x]"
   ]
  },
  {
   "cell_type": "code",
   "execution_count": 9,
   "metadata": {},
   "outputs": [
    {
     "data": {
      "text/html": [
       "<div>\n",
       "<style scoped>\n",
       "    .dataframe tbody tr th:only-of-type {\n",
       "        vertical-align: middle;\n",
       "    }\n",
       "\n",
       "    .dataframe tbody tr th {\n",
       "        vertical-align: top;\n",
       "    }\n",
       "\n",
       "    .dataframe thead th {\n",
       "        text-align: right;\n",
       "    }\n",
       "</style>\n",
       "<table border=\"1\" class=\"dataframe\">\n",
       "  <thead>\n",
       "    <tr style=\"text-align: right;\">\n",
       "      <th></th>\n",
       "      <th>review</th>\n",
       "      <th>sentiment</th>\n",
       "    </tr>\n",
       "  </thead>\n",
       "  <tbody>\n",
       "    <tr>\n",
       "      <th>590</th>\n",
       "      <td>twenty five year ago showed film child s class...</td>\n",
       "      <td>1</td>\n",
       "    </tr>\n",
       "    <tr>\n",
       "      <th>184</th>\n",
       "      <td>narrative  whether written visual poetic epic...</td>\n",
       "      <td>1</td>\n",
       "    </tr>\n",
       "    <tr>\n",
       "      <th>220</th>\n",
       "      <td>saw movie blockbuster thought might good sunda...</td>\n",
       "      <td>0</td>\n",
       "    </tr>\n",
       "    <tr>\n",
       "      <th>94</th>\n",
       "      <td>rented film netflix oscar see really good br b...</td>\n",
       "      <td>0</td>\n",
       "    </tr>\n",
       "    <tr>\n",
       "      <th>60</th>\n",
       "      <td>could ve great film late poker pro pre poker c...</td>\n",
       "      <td>0</td>\n",
       "    </tr>\n",
       "  </tbody>\n",
       "</table>\n",
       "</div>"
      ],
      "text/plain": [
       "                                                review  sentiment\n",
       "590  twenty five year ago showed film child s class...          1\n",
       "184  narrative  whether written visual poetic epic...          1\n",
       "220  saw movie blockbuster thought might good sunda...          0\n",
       "94   rented film netflix oscar see really good br b...          0\n",
       "60   could ve great film late poker pro pre poker c...          0"
      ]
     },
     "execution_count": 9,
     "metadata": {},
     "output_type": "execute_result"
    }
   ],
   "source": [
    "df['sentiment']=df['sentiment'].map({'positive':1,'negative':0})\n",
    "df.head()"
   ]
  },
  {
   "cell_type": "code",
   "execution_count": 10,
   "metadata": {},
   "outputs": [
    {
     "data": {
      "text/plain": [
       "review       0\n",
       "sentiment    0\n",
       "dtype: int64"
      ]
     },
     "execution_count": 10,
     "metadata": {},
     "output_type": "execute_result"
    }
   ],
   "source": [
    "df.isnull().sum()"
   ]
  },
  {
   "cell_type": "code",
   "execution_count": 15,
   "metadata": {},
   "outputs": [],
   "source": [
    "vectorizer=CountVectorizer(max_features= 100)\n",
    "\n",
    "X=vectorizer.fit_transform(df['review'])\n",
    "y=df['sentiment']\n",
    "\n"
   ]
  },
  {
   "cell_type": "code",
   "execution_count": 16,
   "metadata": {},
   "outputs": [],
   "source": [
    "X_train, X_test, y_train, y_test = train_test_split(X, y, test_size=0.20, random_state=42)"
   ]
  },
  {
   "cell_type": "code",
   "execution_count": 17,
   "metadata": {},
   "outputs": [
    {
     "data": {
      "text/html": [
       "<pre style=\"white-space:pre;overflow-x:auto;line-height:normal;font-family:Menlo,'DejaVu Sans Mono',consolas,'Courier New',monospace\">Initialized MLflow to track repo <span style=\"color: #008000; text-decoration-color: #008000\">\"TechGovinda/Review_Sentiment_Analysis\"</span>\n",
       "</pre>\n"
      ],
      "text/plain": [
       "Initialized MLflow to track repo \u001b[32m\"TechGovinda/Review_Sentiment_Analysis\"\u001b[0m\n"
      ]
     },
     "metadata": {},
     "output_type": "display_data"
    },
    {
     "name": "stderr",
     "output_type": "stream",
     "text": [
      "2025-03-22 15:38:27,542 - INFO - Initialized MLflow to track repo \"TechGovinda/Review_Sentiment_Analysis\"\n"
     ]
    },
    {
     "data": {
      "text/html": [
       "<pre style=\"white-space:pre;overflow-x:auto;line-height:normal;font-family:Menlo,'DejaVu Sans Mono',consolas,'Courier New',monospace\">Repository TechGovinda/Review_Sentiment_Analysis initialized!\n",
       "</pre>\n"
      ],
      "text/plain": [
       "Repository TechGovinda/Review_Sentiment_Analysis initialized!\n"
      ]
     },
     "metadata": {},
     "output_type": "display_data"
    },
    {
     "name": "stderr",
     "output_type": "stream",
     "text": [
      "2025-03-22 15:38:27,545 - INFO - Repository TechGovinda/Review_Sentiment_Analysis initialized!\n"
     ]
    },
    {
     "data": {
      "text/plain": [
       "<Experiment: artifact_location='mlflow-artifacts:/5ff0693d58c2484eb2c81b8786a3bf33', creation_time=1742627268194, experiment_id='0', last_update_time=1742627268194, lifecycle_stage='active', name='Logistic Regression Baseline', tags={}>"
      ]
     },
     "execution_count": 17,
     "metadata": {},
     "output_type": "execute_result"
    }
   ],
   "source": [
    "import dagshub\n",
    "mlflow.set_tracking_uri('https://dagshub.com/TechGovinda/Review_Sentiment_Analysis.mlflow')\n",
    "dagshub.init(repo_owner='TechGovinda', repo_name='Review_Sentiment_Analysis', mlflow=True)\n",
    "\n",
    "# mlfloow.set_experiment(\"Logistic Regression Baseline\")\n",
    "mlflow.set_experiment(\"Logistic Regression Baseline\")\n",
    "\n"
   ]
  },
  {
   "cell_type": "code",
   "execution_count": 18,
   "metadata": {},
   "outputs": [
    {
     "name": "stderr",
     "output_type": "stream",
     "text": [
      "2025-03-22 15:38:28,828 - INFO - Starting MLflow run...\n",
      "2025-03-22 15:38:29,260 - INFO - Logging preprocessing parameters...\n",
      "2025-03-22 15:38:30,452 - INFO - Initializing Logistic Regression model...\n",
      "2025-03-22 15:38:30,458 - INFO - Fitting the model...\n",
      "2025-03-22 15:38:30,550 - INFO - Model training complete.\n",
      "2025-03-22 15:38:30,551 - INFO - Logging model parameters...\n",
      "2025-03-22 15:38:30,930 - INFO - Making predictions...\n",
      "2025-03-22 15:38:30,937 - INFO - Calculating evaluation metrics...\n",
      "2025-03-22 15:38:30,964 - INFO - Logging evaluation metrics...\n",
      "2025-03-22 15:38:32,598 - INFO - Saving and logging the model...\n",
      "2025/03/22 15:38:39 WARNING mlflow.models.model: Model logged without a signature and input example. Please set `input_example` parameter when logging the model to auto infer the model signature.\n",
      "2025-03-22 15:38:42,646 - INFO - Model training and logging completed in 13.39 seconds.\n",
      "2025-03-22 15:38:42,648 - INFO - Accuracy: 0.6\n",
      "2025-03-22 15:38:42,649 - INFO - Precision: 0.6744186046511628\n",
      "2025-03-22 15:38:42,650 - INFO - Recall: 0.5272727272727272\n",
      "2025-03-22 15:38:42,651 - INFO - F1 Score: 0.5918367346938775\n"
     ]
    },
    {
     "name": "stdout",
     "output_type": "stream",
     "text": [
      "🏃 View run bold-koi-164 at: https://dagshub.com/TechGovinda/Review_Sentiment_Analysis.mlflow/#/experiments/0/runs/a3f6884affb34c57bad1b8c44646bd70\n",
      "🧪 View experiment at: https://dagshub.com/TechGovinda/Review_Sentiment_Analysis.mlflow/#/experiments/0\n"
     ]
    }
   ],
   "source": [
    "import mlflow\n",
    "import logging\n",
    "import os\n",
    "import time\n",
    "from sklearn.linear_model import LogisticRegression\n",
    "from sklearn.metrics import accuracy_score, precision_score, recall_score, f1_score\n",
    "\n",
    "# Configure logging\n",
    "logging.basicConfig(level=logging.INFO, format=\"%(asctime)s - %(levelname)s - %(message)s\")\n",
    "\n",
    "logging.info(\"Starting MLflow run...\")\n",
    "\n",
    "with mlflow.start_run():\n",
    "    start_time = time.time()\n",
    "    \n",
    "    try:\n",
    "        logging.info(\"Logging preprocessing parameters...\")\n",
    "        mlflow.log_param(\"vectorizer\", \"Bag of Words\")\n",
    "        mlflow.log_param(\"num_features\", 100)\n",
    "        mlflow.log_param(\"test_size\", 0.20)\n",
    "\n",
    "        logging.info(\"Initializing Logistic Regression model...\")\n",
    "        model = LogisticRegression(max_iter=1000)  # Increase max_iter to prevent non-convergence issues\n",
    "\n",
    "        logging.info(\"Fitting the model...\")\n",
    "        model.fit(X_train, y_train)\n",
    "        logging.info(\"Model training complete.\")\n",
    "\n",
    "        logging.info(\"Logging model parameters...\")\n",
    "        mlflow.log_param(\"model\", \"Logistic Regression\")\n",
    "\n",
    "        logging.info(\"Making predictions...\")\n",
    "        y_pred = model.predict(X_test)\n",
    "\n",
    "        logging.info(\"Calculating evaluation metrics...\")\n",
    "        accuracy = accuracy_score(y_test, y_pred)\n",
    "        precision = precision_score(y_test, y_pred)\n",
    "        recall = recall_score(y_test, y_pred)\n",
    "        f1 = f1_score(y_test, y_pred)\n",
    "\n",
    "        logging.info(\"Logging evaluation metrics...\")\n",
    "        mlflow.log_metric(\"accuracy\", accuracy)\n",
    "        mlflow.log_metric(\"precision\", precision)\n",
    "        mlflow.log_metric(\"recall\", recall)\n",
    "        mlflow.log_metric(\"f1_score\", f1)\n",
    "\n",
    "        logging.info(\"Saving and logging the model...\")\n",
    "        mlflow.sklearn.log_model(model, \"model\")\n",
    "\n",
    "        # Log execution time\n",
    "        end_time = time.time()\n",
    "        logging.info(f\"Model training and logging completed in {end_time - start_time:.2f} seconds.\")\n",
    "\n",
    "        # Save and log the notebook\n",
    "        # notebook_path = \"exp1_baseline_model.ipynb\"\n",
    "        # logging.info(\"Executing Jupyter Notebook. This may take a while...\")\n",
    "        # os.system(f\"jupyter nbconvert --to notebook --execute --inplace {notebook_path}\")\n",
    "        # mlflow.log_artifact(notebook_path)\n",
    "\n",
    "        # logging.info(\"Notebook execution and logging complete.\")\n",
    "\n",
    "        # Print the results for verification\n",
    "        logging.info(f\"Accuracy: {accuracy}\")\n",
    "        logging.info(f\"Precision: {precision}\")\n",
    "        logging.info(f\"Recall: {recall}\")\n",
    "        logging.info(f\"F1 Score: {f1}\")\n",
    "\n",
    "    except Exception as e:\n",
    "        logging.error(f\"An error occurred: {e}\", exc_info=True)"
   ]
  },
  {
   "cell_type": "code",
   "execution_count": null,
   "metadata": {},
   "outputs": [],
   "source": []
  },
  {
   "cell_type": "code",
   "execution_count": null,
   "metadata": {},
   "outputs": [],
   "source": []
  },
  {
   "cell_type": "code",
   "execution_count": null,
   "metadata": {},
   "outputs": [],
   "source": []
  }
 ],
 "metadata": {
  "kernelspec": {
   "display_name": "Python 3",
   "language": "python",
   "name": "python3"
  },
  "language_info": {
   "codemirror_mode": {
    "name": "ipython",
    "version": 3
   },
   "file_extension": ".py",
   "mimetype": "text/x-python",
   "name": "python",
   "nbconvert_exporter": "python",
   "pygments_lexer": "ipython3",
   "version": "3.10.16"
  }
 },
 "nbformat": 4,
 "nbformat_minor": 2
}
